{
  "nbformat": 4,
  "nbformat_minor": 0,
  "metadata": {
    "colab": {
      "provenance": [],
      "authorship_tag": "ABX9TyMYV4QUFrF4MWqxZiXCYVBV",
      "include_colab_link": true
    },
    "kernelspec": {
      "name": "python3",
      "display_name": "Python 3"
    },
    "language_info": {
      "name": "python"
    }
  },
  "cells": [
    {
      "cell_type": "markdown",
      "metadata": {
        "id": "view-in-github",
        "colab_type": "text"
      },
      "source": [
        "<a href=\"https://colab.research.google.com/github/dizizmi/china-dams-reservoirs/blob/main/midterms.ipynb\" target=\"_parent\"><img src=\"https://colab.research.google.com/assets/colab-badge.svg\" alt=\"Open In Colab\"/></a>"
      ]
    },
    {
      "cell_type": "markdown",
      "source": [
        "### **Title: Exploring China dams and reservoirs with data**\n",
        "\n",
        "---\n",
        "\n"
      ],
      "metadata": {
        "id": "o5_L3za-OABe"
      }
    },
    {
      "cell_type": "markdown",
      "source": [
        "# **Abstract**\n",
        "---\n",
        "\n"
      ],
      "metadata": {
        "id": "I993jS-_OMCU"
      }
    },
    {
      "cell_type": "markdown",
      "source": [
        "# **Introduction**\n",
        "---\n",
        "\n"
      ],
      "metadata": {
        "id": "iVnLcpBcOW0J"
      }
    },
    {
      "cell_type": "markdown",
      "source": [
        "**Stage 1: Dataset Selection and Critique**\n",
        "\n",
        "---\n",
        "\n",
        "**Dataset Source and Accesibility**\n",
        "\n",
        "**Quality and Detail**\n",
        "\n",
        "**Documentation and Use**\n",
        "\n",
        "**Interrelation and Discoverbility**\n",
        "\n",
        "**Interest and Research Questions**\n",
        "\n",
        "\n",
        "\n"
      ],
      "metadata": {
        "id": "CKZGT5LgOrMV"
      }
    },
    {
      "cell_type": "markdown",
      "source": [
        "**Stage 2: Model Your Data**\n",
        "\n",
        "---\n",
        "\n",
        "\n"
      ],
      "metadata": {
        "id": "UyStWEi3O1jA"
      }
    },
    {
      "cell_type": "markdown",
      "source": [
        "\n",
        "**Entity Relationship Diagram**\n",
        "\n",
        "\n",
        "\n",
        "\n"
      ],
      "metadata": {
        "id": "N6hZI6StU9mC"
      }
    },
    {
      "cell_type": "markdown",
      "source": [],
      "metadata": {
        "id": "PdjHO5GkVGzi"
      }
    },
    {
      "cell_type": "markdown",
      "source": [
        "\n",
        "\n",
        "**Relational Schema**\n",
        "\n",
        "\n"
      ],
      "metadata": {
        "id": "XShEqsDfVHN2"
      }
    },
    {
      "cell_type": "markdown",
      "source": [],
      "metadata": {
        "id": "ZrEypPeMVLFN"
      }
    },
    {
      "cell_type": "markdown",
      "source": [
        "\n",
        "\n",
        "**BCNF Compliance Analysis**\n",
        "\n",
        "**Scalability and Flexibility**\n",
        "\n"
      ],
      "metadata": {
        "id": "UP6blIaXVLZo"
      }
    },
    {
      "cell_type": "markdown",
      "source": [
        "**Stage 3: Create database**\n",
        "\n",
        "---\n",
        "\n",
        "**ETL process**\n",
        "\n",
        "**Databases creation and user configuration**\n",
        "\n",
        "**Table structure and relationships**\n",
        "\n",
        "**Data ingestion and denormalization**\n",
        "\n",
        "**Data insertion into Normalized Tables**\n"
      ],
      "metadata": {
        "id": "hvBSz5OKP1cY"
      }
    },
    {
      "cell_type": "markdown",
      "source": [
        "**Stage 4: Web application**\n",
        "\n",
        "**Research questions**\n",
        "\n",
        "**Research Question 1: The # dams in a province**\n",
        "\n",
        "**Research Question 2: The dams that share the same river, see whether in same province**\n",
        "\n",
        "**Research Question 3: Height of largest dam**\n",
        "\n",
        "**Research Question 4: **\n",
        "\n",
        "**Research Question 5: **\n",
        "\n",
        "\n",
        "**User interaction flow**\n",
        "\n",
        "**Database connection security**\n",
        "\n",
        "**Research question, sql queries and result pages**\n",
        "\n",
        "\n",
        "\n",
        "---\n",
        "\n"
      ],
      "metadata": {
        "id": "Vv8lZ_h5QSMw"
      }
    },
    {
      "cell_type": "markdown",
      "source": [
        "# **Conclusions**\n",
        "\n",
        "---\n",
        "\n",
        "**References**\n"
      ],
      "metadata": {
        "id": "mwr_yzBYQqyP"
      }
    }
  ]
}